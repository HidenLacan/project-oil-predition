{
 "cells": [
  {
   "cell_type": "markdown",
   "metadata": {},
   "source": [
    "## Descripción del proyecto\n",
    "\n",
    "Trabajas en la compañía de extracción de petróleo OilyGiant. Tu tarea es encontrar los mejores lugares donde **abrir 200 pozos nuevos de petróleo**.\n",
    "\n",
    "\n",
    "\n",
    "## Descripción de datos\n",
    "\n",
    "- *id* — identificador único de pozo de petróleo\n",
    "- *f0, f1, f2* — tres características de los puntos (su significado específico no es\n",
    "importante, pero las características en sí son significativas)\n",
    "- *product* — volumen de reservas en el pozo de petróleo (miles de barriles).\n",
    "\n"
   ]
  },
  {
   "cell_type": "markdown",
   "metadata": {},
   "source": [
    "## Indice del proyecto\n",
    "1. [Descarga y preparacion de los datos](#Descarga-y-preparacion-de-los-datos)\n",
    "2. [Entrenamiento y prueba del modelo por region](#Entrenamiento-y-prueba-del-modelo-por-region)\n",
    "3. [Calculo de ganancias](#calculo-de-ganancias)\n",
    "4. [Calculando ganancias en regiones petroleras](#calculando-ganancias-en-regiones-petroleras)\n",
    "5. [Calculando riesgos y ganancias](#calculando-riesgos-y-gananacias)\n",
    "6. [Conclusiones generales](#conclusiones-generales)"
   ]
  },
  {
   "cell_type": "markdown",
   "metadata": {},
   "source": [
    "### Descarga y preparacion de los datos"
   ]
  },
  {
   "cell_type": "code",
   "execution_count": 1,
   "metadata": {},
   "outputs": [],
   "source": [
    "import pandas as pd \n",
    "import matplotlib.pyplot as plt \n",
    "import seaborn as sns\n",
    "import numpy as np\n",
    "from sklearn.metrics import mean_squared_error\n",
    "from sklearn.model_selection import train_test_split\n",
    "from sklearn.linear_model import LinearRegression"
   ]
  },
  {
   "cell_type": "code",
   "execution_count": 2,
   "metadata": {},
   "outputs": [],
   "source": [
    "\n",
    "geo_data1= pd.read_csv('/datasets/geo_data_0.csv')\n",
    "geo_data2 = pd.read_csv('/datasets/geo_data_1.csv')\n",
    "geo_data3 = pd.read_csv('/datasets/geo_data_2.csv')\n",
    "\n",
    "#geo_data1= pd.read_csv('geo_data_0.csv')\n",
    "#geo_data2 = pd.read_csv('geo_data_1.csv')\n",
    "#geo_data3 = pd.read_csv('geo_data_2.csv')"
   ]
  },
  {
   "cell_type": "markdown",
   "metadata": {},
   "source": [
    "se preparan los datos"
   ]
  },
  {
   "cell_type": "code",
   "execution_count": 3,
   "metadata": {},
   "outputs": [],
   "source": [
    "\n",
    "\n",
    "def data_information(data):\n",
    "    information = data.info()\n",
    "    describe = data.describe()\n",
    "    duplicates = data.duplicated().sum()\n",
    "    null_values = data.isnull().sum()\n",
    "    example = data.head(5)\n",
    "    \n",
    "    plt.hist(data['product'],bins=10,edgecolor='black')\n",
    "    plt.title(f'Historiagram from products')\n",
    "    plt.xlabel('products')\n",
    "    plt.ylabel('Frecuencia')\n",
    "    plt.show()\n",
    "    \n",
    "    return information,describe,duplicates,null_values,example\n",
    "    \n"
   ]
  },
  {
   "cell_type": "markdown",
   "metadata": {},
   "source": [
    "Se realiza una funcion para visualizar los datos de importancia general de los datasets como info, describe , revision de duplicados, nulos, impresion de muestra de datos y un historiograma de la frecuencia de la columna productos , que es el numero final de barriles por cada pozo petrolero."
   ]
  },
  {
   "cell_type": "code",
   "execution_count": 4,
   "metadata": {},
   "outputs": [
    {
     "name": "stdout",
     "output_type": "stream",
     "text": [
      "<class 'pandas.core.frame.DataFrame'>\n",
      "RangeIndex: 100000 entries, 0 to 99999\n",
      "Data columns (total 5 columns):\n",
      " #   Column   Non-Null Count   Dtype  \n",
      "---  ------   --------------   -----  \n",
      " 0   id       100000 non-null  object \n",
      " 1   f0       100000 non-null  float64\n",
      " 2   f1       100000 non-null  float64\n",
      " 3   f2       100000 non-null  float64\n",
      " 4   product  100000 non-null  float64\n",
      "dtypes: float64(4), object(1)\n",
      "memory usage: 3.8+ MB\n"
     ]
    },
    {
     "data": {
      "image/png": "[encoded data removed]",
      "text/plain": [
       "<Figure size 432x288 with 1 Axes>"
      ]
     },
     "metadata": {
      "needs_background": "light"
     },
     "output_type": "display_data"
    },
    {
     "data": {
      "text/plain": [
       "(None,\n",
       "                   f0             f1             f2        product\n",
       " count  100000.000000  100000.000000  100000.000000  100000.000000\n",
       " mean        0.500419       0.250143       2.502647      92.500000\n",
       " std         0.871832       0.504433       3.248248      44.288691\n",
       " min        -1.408605      -0.848218     -12.088328       0.000000\n",
       " 25%        -0.072580      -0.200881       0.287748      56.497507\n",
       " 50%         0.502360       0.250252       2.515969      91.849972\n",
       " 75%         1.073581       0.700646       4.715088     128.564089\n",
       " max         2.362331       1.343769      16.003790     185.364347,\n",
       " 0,\n",
       " id         0\n",
       " f0         0\n",
       " f1         0\n",
       " f2         0\n",
       " product    0\n",
       " dtype: int64,\n",
       "       id        f0        f1        f2     product\n",
       " 0  txEyH  0.705745 -0.497823  1.221170  105.280062\n",
       " 1  2acmU  1.334711 -0.340164  4.365080   73.037750\n",
       " 2  409Wp  1.022732  0.151990  1.419926   85.265647\n",
       " 3  iJLyR -0.032172  0.139033  2.978566  168.620776\n",
       " 4  Xdl7t  1.988431  0.155413  4.751769  154.036647)"
      ]
     },
     "execution_count": 4,
     "metadata": {},
     "output_type": "execute_result"
    }
   ],
   "source": [
    "data_information(geo_data1)\n"
   ]
  },
  {
   "cell_type": "code",
   "execution_count": 5,
   "metadata": {},
   "outputs": [
    {
     "name": "stdout",
     "output_type": "stream",
     "text": [
      "<class 'pandas.core.frame.DataFrame'>\n",
      "RangeIndex: 100000 entries, 0 to 99999\n",
      "Data columns (total 5 columns):\n",
      " #   Column   Non-Null Count   Dtype  \n",
      "---  ------   --------------   -----  \n",
      " 0   id       100000 non-null  object \n",
      " 1   f0       100000 non-null  float64\n",
      " 2   f1       100000 non-null  float64\n",
      " 3   f2       100000 non-null  float64\n",
      " 4   product  100000 non-null  float64\n",
      "dtypes: float64(4), object(1)\n",
      "memory usage: 3.8+ MB\n"
     ]
    },
    {
     "data": {
      "image/png": "[encoded data removed]",
      "text/plain": [
       "<Figure size 432x288 with 1 Axes>"
      ]
     },
     "metadata": {
      "needs_background": "light"
     },
     "output_type": "display_data"
    },
    {
     "data": {
      "text/plain": [
       "(None,\n",
       "                   f0             f1             f2        product\n",
       " count  100000.000000  100000.000000  100000.000000  100000.000000\n",
       " mean        1.141296      -4.796579       2.494541      68.825000\n",
       " std         8.965932       5.119872       1.703572      45.944423\n",
       " min       -31.609576     -26.358598      -0.018144       0.000000\n",
       " 25%        -6.298551      -8.267985       1.000021      26.953261\n",
       " 50%         1.153055      -4.813172       2.011479      57.085625\n",
       " 75%         8.621015      -1.332816       3.999904     107.813044\n",
       " max        29.421755      18.734063       5.019721     137.945408,\n",
       " 0,\n",
       " id         0\n",
       " f0         0\n",
       " f1         0\n",
       " f2         0\n",
       " product    0\n",
       " dtype: int64,\n",
       "       id         f0         f1        f2     product\n",
       " 0  kBEdx -15.001348  -8.276000 -0.005876    3.179103\n",
       " 1  62mP7  14.272088  -3.475083  0.999183   26.953261\n",
       " 2  vyE1P   6.263187  -5.948386  5.001160  134.766305\n",
       " 3  KcrkZ -13.081196 -11.506057  4.999415  137.945408\n",
       " 4  AHL4O  12.702195  -8.147433  5.004363  134.766305)"
      ]
     },
     "execution_count": 5,
     "metadata": {},
     "output_type": "execute_result"
    }
   ],
   "source": [
    "data_information(geo_data2)"
   ]
  },
  {
   "cell_type": "code",
   "execution_count": 6,
   "metadata": {
    "scrolled": true
   },
   "outputs": [
    {
     "name": "stdout",
     "output_type": "stream",
     "text": [
      "<class 'pandas.core.frame.DataFrame'>\n",
      "RangeIndex: 100000 entries, 0 to 99999\n",
      "Data columns (total 5 columns):\n",
      " #   Column   Non-Null Count   Dtype  \n",
      "---  ------   --------------   -----  \n",
      " 0   id       100000 non-null  object \n",
      " 1   f0       100000 non-null  float64\n",
      " 2   f1       100000 non-null  float64\n",
      " 3   f2       100000 non-null  float64\n",
      " 4   product  100000 non-null  float64\n",
      "dtypes: float64(4), object(1)\n",
      "memory usage: 3.8+ MB\n"
     ]
    },
    {
     "data": {
      "image/png": "[encoded data removed]",
      "text/plain": [
       "<Figure size 432x288 with 1 Axes>"
      ]
     },
     "metadata": {
      "needs_background": "light"
     },
     "output_type": "display_data"
    },
    {
     "data": {
      "text/plain": [
       "(None,\n",
       "                   f0             f1             f2        product\n",
       " count  100000.000000  100000.000000  100000.000000  100000.000000\n",
       " mean        0.002023      -0.002081       2.495128      95.000000\n",
       " std         1.732045       1.730417       3.473445      44.749921\n",
       " min        -8.760004      -7.084020     -11.970335       0.000000\n",
       " 25%        -1.162288      -1.174820       0.130359      59.450441\n",
       " 50%         0.009424      -0.009482       2.484236      94.925613\n",
       " 75%         1.158535       1.163678       4.858794     130.595027\n",
       " max         7.238262       7.844801      16.739402     190.029838,\n",
       " 0,\n",
       " id         0\n",
       " f0         0\n",
       " f1         0\n",
       " f2         0\n",
       " product    0\n",
       " dtype: int64,\n",
       "       id        f0        f1        f2     product\n",
       " 0  fwXo0 -1.146987  0.963328 -0.828965   27.758673\n",
       " 1  WJtFt  0.262778  0.269839 -2.530187   56.069697\n",
       " 2  ovLUW  0.194587  0.289035 -5.586433   62.871910\n",
       " 3  q6cA6  2.236060 -0.553760  0.930038  114.572842\n",
       " 4  WPMUX -0.515993  1.716266  5.899011  149.600746)"
      ]
     },
     "execution_count": 6,
     "metadata": {},
     "output_type": "execute_result"
    }
   ],
   "source": [
    "data_information(geo_data3)"
   ]
  },
  {
   "cell_type": "markdown",
   "metadata": {},
   "source": [
    "### Entrenamiento y prueda del modelo por region"
   ]
  },
  {
   "cell_type": "code",
   "execution_count": 7,
   "metadata": {},
   "outputs": [],
   "source": [
    "\n",
    "def calculate_model(data,features,target,test_size=0.25,random_state=12345):\n",
    "    \n",
    "    features_train,features_valid,target_train,target_valid = train_test_split(data[features],data[target],test_size=test_size,random_state=random_state)\n",
    "    model = LinearRegression()\n",
    "    model.fit(features_train,target_train)\n",
    "    predictions= model.predict(features_valid)\n",
    "    rmse = np.sqrt(mean_squared_error(target_valid,predictions))\n",
    "    mean_value = predictions.mean()\n",
    "    return rmse,mean_value,model, target_valid, predictions\n"
   ]
  },
  {
   "cell_type": "markdown",
   "metadata": {},
   "source": [
    "Se realiza una funcion que permite entrenar un modelo de acuerdo al dataset, features,target , tomando en cuenta el requerimiendo de la validacion 77:25, retornando el rmse , mean value y el modelo de entrenamiento."
   ]
  },
  {
   "cell_type": "code",
   "execution_count": 14,
   "metadata": {},
   "outputs": [
    {
     "name": "stdout",
     "output_type": "stream",
     "text": [
      "Region 0: RMSE = 37.5794217150813, Volumen medio: 92.59256778438035\n",
      "Region 1: RMSE = 0.893099286775617, Volumen medio: 68.728546895446\n",
      "Region 2: RMSE = 40.02970873393434, Volumen medio: 94.96504596800489\n"
     ]
    }
   ],
   "source": [
    "features = ['f0','f1','f2']\n",
    "target = 'product'\n",
    "\n",
    "rems_1,mean_volume_1,model_1,target_valid_0,predictions_0 = calculate_model(geo_data1,features,target)\n",
    "rems_2,mean_volume_2,model_2,target_valid_1,predictions_1 = calculate_model(geo_data2,features,target)\n",
    "rems_3,mean_volume_3,model_3,target_valid_2,predictions_2= calculate_model(geo_data3,features,target)\n",
    "print(f\"Region 0: RMSE = {rems_1}, Volumen medio: {mean_volume_1}\")\n",
    "print(f\"Region 1: RMSE = {rems_2}, Volumen medio: {mean_volume_2}\")\n",
    "print(f\"Region 2: RMSE = {rems_3}, Volumen medio: {mean_volume_3}\")\n"
   ]
  },
  {
   "cell_type": "markdown",
   "metadata": {},
   "source": [
    "Se aplica la funcion a los tres datasets, para calcular el RMSE y el volumen medio en la produccion de productos de cada region.\n",
    "\n",
    "Determinando que la region 1 tiene un Root Mean Square Error de 0.89 traduciendo que el modelo es mas exacto en calcular que sus contrapartes , con un volumen medio de 68.72, que aunque es un volumen mas bajo en comparacion con los otros dos, es mas propenso a ser real."
   ]
  },
  {
   "cell_type": "code",
   "execution_count": 10,
   "metadata": {},
   "outputs": [
    {
     "data": {
      "image/png": "[encoded data removed]",
      "text/plain": [
       "<Figure size 432x288 with 2 Axes>"
      ]
     },
     "metadata": {
      "needs_background": "light"
     },
     "output_type": "display_data"
    }
   ],
   "source": [
    "\n",
    "### hacer una visualizacion de los datos\n",
    "rems = [rems_1,rems_2,rems_3]\n",
    "mean_values= [mean_volume_1,mean_volume_2,mean_volume_3]\n",
    "regions = ['Region 0','Region 1','Region 2']\n",
    "fig,ax1 = plt.subplots()\n",
    "ax1.set_xlabel('Region')\n",
    "ax1.set_ylabel('Mean Values',color='red')\n",
    "ax1.bar(regions,mean_values,color='red',alpha=0.6,label='Mean Values')\n",
    "ax1.tick_params(axis='y',color='red')\n",
    "ax2 = ax1.twinx()\n",
    "ax2.set_ylabel('RMSE',color='blue')\n",
    "ax2.plot(regions,rems,color='blue',marker='o',label='RMSE')\n",
    "ax2.tick_params(axis='y',color='blue')\n",
    "plt.title('Mean and RMSE Volume Predictions by Region')\n",
    "fig.tight_layout()\n",
    "plt.show()"
   ]
  },
  {
   "cell_type": "markdown",
   "metadata": {},
   "source": [
    "Se visualizan los resultados de acuerdo al RMSE y el volumen medio por region."
   ]
  },
  {
   "cell_type": "markdown",
   "metadata": {},
   "source": [
    "\n",
    "### Calculo de ganancias"
   ]
  },
  {
   "cell_type": "code",
   "execution_count": 16,
   "metadata": {},
   "outputs": [
    {
     "name": "stdout",
     "output_type": "stream",
     "text": [
      "Comparacion del volumen de equilibrio con el volumen de reservas:\n",
      "Region 0: 92.59256778438035 - No rentable\n",
      "Region 1: 68.728546895446 - No rentable\n",
      "Region 2: 94.96504596800489 - No rentable\n"
     ]
    }
   ],
   "source": [
    "presupuesto_total = 100_000_000\n",
    "ingreso_por_unidad = 4500\n",
    "volumen_equilibrio_por_pozo = 500_000\n",
    "ingreso_por_barril = 4.5\n",
    "unidades_equilibrio_por_pozo = volumen_equilibrio_por_pozo/ingreso_por_unidad\n",
    "\n",
    "print(\"Comparacion del volumen de equilibrio con el volumen de reservas:\")\n",
    "print(f\"Region 0: {mean_volume_1} - {'Rentable' if mean_volume_1 >= unidades_equilibrio_por_pozo else 'No rentable'}\")\n",
    "print(f\"Region 1: {mean_volume_2} - {'Rentable' if mean_volume_2 >= unidades_equilibrio_por_pozo else 'No rentable'}\")\n",
    "print(f\"Region 2: {mean_volume_3} - {'Rentable' if mean_volume_3 >= unidades_equilibrio_por_pozo else 'No rentable'}\")\n"
   ]
  },
  {
   "cell_type": "markdown",
   "metadata": {},
   "source": [
    "De acuerdo al calculo de las unidades de equilibrio por pozo ninguno de los pozos es rentable debido a que la medida de rquilibrio es 111 barriles por pozo."
   ]
  },
  {
   "cell_type": "markdown",
   "metadata": {},
   "source": [
    "### Calculando ganancias en regiones petroleras"
   ]
  },
  {
   "cell_type": "code",
   "execution_count": 17,
   "metadata": {},
   "outputs": [],
   "source": [
    "def add_predictions(data,features,model):\n",
    "    predictions = model.predict(data[features])\n",
    "    data['prediction'] = predictions\n",
    "    return data\n",
    "\n",
    "def calculate_ganancias(target_valid, predictions, precio_por_unidad=4500, presupuesto=100_000_000, top_pozos=200):\n",
    "    data = pd.DataFrame({\n",
    "        'target_valid': target_valid,\n",
    "        'predictions': predictions\n",
    "    })\n",
    "    mejores_pozos = data.sort_values(by='predictions', ascending=False).head(top_pozos)\n",
    "    \n",
    "    volumen_total = mejores_pozos['predictions'].sum()\n",
    "    ganancia_potencial = volumen_total * precio_por_unidad\n",
    "    \n",
    "    ganancia_neta = ganancia_potencial - presupuesto\n",
    "    return ganancia_neta\n",
    "\n",
    "\n"
   ]
  },
  {
   "cell_type": "markdown",
   "metadata": {},
   "source": [
    "Se crean dos funciones una para integrar las prediciones por fila en los data sets y la segunda para calcular las ganancias en los mejores 200 predicciones por region."
   ]
  },
  {
   "cell_type": "code",
   "execution_count": 18,
   "metadata": {
    "scrolled": true
   },
   "outputs": [
    {
     "data": {
      "text/html": [
       "<div>\n",
       "<style scoped>\n",
       "    .dataframe tbody tr th:only-of-type {\n",
       "        vertical-align: middle;\n",
       "    }\n",
       "\n",
       "    .dataframe tbody tr th {\n",
       "        vertical-align: top;\n",
       "    }\n",
       "\n",
       "    .dataframe thead th {\n",
       "        text-align: right;\n",
       "    }\n",
       "</style>\n",
       "<table border=\"1\" class=\"dataframe\">\n",
       "  <thead>\n",
       "    <tr style=\"text-align: right;\">\n",
       "      <th></th>\n",
       "      <th>id</th>\n",
       "      <th>f0</th>\n",
       "      <th>f1</th>\n",
       "      <th>f2</th>\n",
       "      <th>product</th>\n",
       "      <th>prediction</th>\n",
       "    </tr>\n",
       "  </thead>\n",
       "  <tbody>\n",
       "    <tr>\n",
       "      <th>0</th>\n",
       "      <td>txEyH</td>\n",
       "      <td>0.705745</td>\n",
       "      <td>-0.497823</td>\n",
       "      <td>1.221170</td>\n",
       "      <td>105.280062</td>\n",
       "      <td>95.461973</td>\n",
       "    </tr>\n",
       "    <tr>\n",
       "      <th>1</th>\n",
       "      <td>2acmU</td>\n",
       "      <td>1.334711</td>\n",
       "      <td>-0.340164</td>\n",
       "      <td>4.365080</td>\n",
       "      <td>73.037750</td>\n",
       "      <td>116.227394</td>\n",
       "    </tr>\n",
       "    <tr>\n",
       "      <th>2</th>\n",
       "      <td>409Wp</td>\n",
       "      <td>1.022732</td>\n",
       "      <td>0.151990</td>\n",
       "      <td>1.419926</td>\n",
       "      <td>85.265647</td>\n",
       "      <td>88.750254</td>\n",
       "    </tr>\n",
       "    <tr>\n",
       "      <th>3</th>\n",
       "      <td>iJLyR</td>\n",
       "      <td>-0.032172</td>\n",
       "      <td>0.139033</td>\n",
       "      <td>2.978566</td>\n",
       "      <td>168.620776</td>\n",
       "      <td>95.419237</td>\n",
       "    </tr>\n",
       "    <tr>\n",
       "      <th>4</th>\n",
       "      <td>Xdl7t</td>\n",
       "      <td>1.988431</td>\n",
       "      <td>0.155413</td>\n",
       "      <td>4.751769</td>\n",
       "      <td>154.036647</td>\n",
       "      <td>114.138969</td>\n",
       "    </tr>\n",
       "  </tbody>\n",
       "</table>\n",
       "</div>"
      ],
      "text/plain": [
       "      id        f0        f1        f2     product  prediction\n",
       "0  txEyH  0.705745 -0.497823  1.221170  105.280062   95.461973\n",
       "1  2acmU  1.334711 -0.340164  4.365080   73.037750  116.227394\n",
       "2  409Wp  1.022732  0.151990  1.419926   85.265647   88.750254\n",
       "3  iJLyR -0.032172  0.139033  2.978566  168.620776   95.419237\n",
       "4  Xdl7t  1.988431  0.155413  4.751769  154.036647  114.138969"
      ]
     },
     "execution_count": 18,
     "metadata": {},
     "output_type": "execute_result"
    }
   ],
   "source": [
    "data_geo1_with_prediction = add_predictions(geo_data1,features,model_1)\n",
    "data_geo1_with_prediction.head(5)\n",
    "\n"
   ]
  },
  {
   "cell_type": "markdown",
   "metadata": {},
   "source": [
    "Se ejecuta la funcion por dataset,modelo y se imprime una muestra"
   ]
  },
  {
   "cell_type": "code",
   "execution_count": 19,
   "metadata": {},
   "outputs": [
    {
     "data": {
      "text/html": [
       "<div>\n",
       "<style scoped>\n",
       "    .dataframe tbody tr th:only-of-type {\n",
       "        vertical-align: middle;\n",
       "    }\n",
       "\n",
       "    .dataframe tbody tr th {\n",
       "        vertical-align: top;\n",
       "    }\n",
       "\n",
       "    .dataframe thead th {\n",
       "        text-align: right;\n",
       "    }\n",
       "</style>\n",
       "<table border=\"1\" class=\"dataframe\">\n",
       "  <thead>\n",
       "    <tr style=\"text-align: right;\">\n",
       "      <th></th>\n",
       "      <th>id</th>\n",
       "      <th>f0</th>\n",
       "      <th>f1</th>\n",
       "      <th>f2</th>\n",
       "      <th>product</th>\n",
       "      <th>prediction</th>\n",
       "    </tr>\n",
       "  </thead>\n",
       "  <tbody>\n",
       "    <tr>\n",
       "      <th>0</th>\n",
       "      <td>kBEdx</td>\n",
       "      <td>-15.001348</td>\n",
       "      <td>-8.276000</td>\n",
       "      <td>-0.005876</td>\n",
       "      <td>3.179103</td>\n",
       "      <td>3.853530</td>\n",
       "    </tr>\n",
       "    <tr>\n",
       "      <th>1</th>\n",
       "      <td>62mP7</td>\n",
       "      <td>14.272088</td>\n",
       "      <td>-3.475083</td>\n",
       "      <td>0.999183</td>\n",
       "      <td>26.953261</td>\n",
       "      <td>26.592376</td>\n",
       "    </tr>\n",
       "    <tr>\n",
       "      <th>2</th>\n",
       "      <td>vyE1P</td>\n",
       "      <td>6.263187</td>\n",
       "      <td>-5.948386</td>\n",
       "      <td>5.001160</td>\n",
       "      <td>134.766305</td>\n",
       "      <td>135.665691</td>\n",
       "    </tr>\n",
       "    <tr>\n",
       "      <th>3</th>\n",
       "      <td>KcrkZ</td>\n",
       "      <td>-13.081196</td>\n",
       "      <td>-11.506057</td>\n",
       "      <td>4.999415</td>\n",
       "      <td>137.945408</td>\n",
       "      <td>138.544872</td>\n",
       "    </tr>\n",
       "    <tr>\n",
       "      <th>4</th>\n",
       "      <td>AHL4O</td>\n",
       "      <td>12.702195</td>\n",
       "      <td>-8.147433</td>\n",
       "      <td>5.004363</td>\n",
       "      <td>134.766305</td>\n",
       "      <td>134.867164</td>\n",
       "    </tr>\n",
       "  </tbody>\n",
       "</table>\n",
       "</div>"
      ],
      "text/plain": [
       "      id         f0         f1        f2     product  prediction\n",
       "0  kBEdx -15.001348  -8.276000 -0.005876    3.179103    3.853530\n",
       "1  62mP7  14.272088  -3.475083  0.999183   26.953261   26.592376\n",
       "2  vyE1P   6.263187  -5.948386  5.001160  134.766305  135.665691\n",
       "3  KcrkZ -13.081196 -11.506057  4.999415  137.945408  138.544872\n",
       "4  AHL4O  12.702195  -8.147433  5.004363  134.766305  134.867164"
      ]
     },
     "execution_count": 19,
     "metadata": {},
     "output_type": "execute_result"
    }
   ],
   "source": [
    "data_geo2_with_prediction = add_predictions(geo_data2,features,model_2)\n",
    "data_geo2_with_prediction.head(5)\n"
   ]
  },
  {
   "cell_type": "code",
   "execution_count": 20,
   "metadata": {
    "scrolled": true
   },
   "outputs": [
    {
     "data": {
      "text/html": [
       "<div>\n",
       "<style scoped>\n",
       "    .dataframe tbody tr th:only-of-type {\n",
       "        vertical-align: middle;\n",
       "    }\n",
       "\n",
       "    .dataframe tbody tr th {\n",
       "        vertical-align: top;\n",
       "    }\n",
       "\n",
       "    .dataframe thead th {\n",
       "        text-align: right;\n",
       "    }\n",
       "</style>\n",
       "<table border=\"1\" class=\"dataframe\">\n",
       "  <thead>\n",
       "    <tr style=\"text-align: right;\">\n",
       "      <th></th>\n",
       "      <th>id</th>\n",
       "      <th>f0</th>\n",
       "      <th>f1</th>\n",
       "      <th>f2</th>\n",
       "      <th>product</th>\n",
       "      <th>prediction</th>\n",
       "    </tr>\n",
       "  </thead>\n",
       "  <tbody>\n",
       "    <tr>\n",
       "      <th>0</th>\n",
       "      <td>fwXo0</td>\n",
       "      <td>-1.146987</td>\n",
       "      <td>0.963328</td>\n",
       "      <td>-0.828965</td>\n",
       "      <td>27.758673</td>\n",
       "      <td>75.968506</td>\n",
       "    </tr>\n",
       "    <tr>\n",
       "      <th>1</th>\n",
       "      <td>WJtFt</td>\n",
       "      <td>0.262778</td>\n",
       "      <td>0.269839</td>\n",
       "      <td>-2.530187</td>\n",
       "      <td>56.069697</td>\n",
       "      <td>66.329664</td>\n",
       "    </tr>\n",
       "    <tr>\n",
       "      <th>2</th>\n",
       "      <td>ovLUW</td>\n",
       "      <td>0.194587</td>\n",
       "      <td>0.289035</td>\n",
       "      <td>-5.586433</td>\n",
       "      <td>62.871910</td>\n",
       "      <td>48.880039</td>\n",
       "    </tr>\n",
       "    <tr>\n",
       "      <th>3</th>\n",
       "      <td>q6cA6</td>\n",
       "      <td>2.236060</td>\n",
       "      <td>-0.553760</td>\n",
       "      <td>0.930038</td>\n",
       "      <td>114.572842</td>\n",
       "      <td>86.178035</td>\n",
       "    </tr>\n",
       "    <tr>\n",
       "      <th>4</th>\n",
       "      <td>WPMUX</td>\n",
       "      <td>-0.515993</td>\n",
       "      <td>1.716266</td>\n",
       "      <td>5.899011</td>\n",
       "      <td>149.600746</td>\n",
       "      <td>114.363434</td>\n",
       "    </tr>\n",
       "  </tbody>\n",
       "</table>\n",
       "</div>"
      ],
      "text/plain": [
       "      id        f0        f1        f2     product  prediction\n",
       "0  fwXo0 -1.146987  0.963328 -0.828965   27.758673   75.968506\n",
       "1  WJtFt  0.262778  0.269839 -2.530187   56.069697   66.329664\n",
       "2  ovLUW  0.194587  0.289035 -5.586433   62.871910   48.880039\n",
       "3  q6cA6  2.236060 -0.553760  0.930038  114.572842   86.178035\n",
       "4  WPMUX -0.515993  1.716266  5.899011  149.600746  114.363434"
      ]
     },
     "execution_count": 20,
     "metadata": {},
     "output_type": "execute_result"
    }
   ],
   "source": [
    "\n",
    "data_geo3_with_prediction = add_predictions(geo_data3,features,model_3)\n",
    "data_geo3_with_prediction.head(5)"
   ]
  },
  {
   "cell_type": "code",
   "execution_count": 36,
   "metadata": {},
   "outputs": [
    {
     "name": "stdout",
     "output_type": "stream",
     "text": [
      "Ganancia potenciales Zona 0: 39960488.77465129 USD\n"
     ]
    }
   ],
   "source": [
    "ganancia_neta_zona_0= calculate_ganancias(target_valid_0, predictions_0)\n",
    "print(f'Ganancia potenciales Zona 0: {ganancia_neta_zona_0} USD')"
   ]
  },
  {
   "cell_type": "markdown",
   "metadata": {},
   "source": [
    "Se calculan las ganancias potenciales tomando en cuenta los 200 pozos con mayor numero de prediccion."
   ]
  },
  {
   "cell_type": "code",
   "execution_count": 22,
   "metadata": {},
   "outputs": [
    {
     "name": "stdout",
     "output_type": "stream",
     "text": [
      "Ganancia potenciales Zona 1: 24857120.51973541 USD\n"
     ]
    }
   ],
   "source": [
    "ganancia_neta_zona_1 = calculate_ganancias(target_valid_1, predictions_1)\n",
    "print(f'Ganancia potenciales Zona 1: {ganancia_neta_zona_1} USD')"
   ]
  },
  {
   "cell_type": "code",
   "execution_count": 23,
   "metadata": {},
   "outputs": [
    {
     "name": "stdout",
     "output_type": "stream",
     "text": [
      "Ganancia potenciales Zona 2: 33217543.962432563 USD\n"
     ]
    }
   ],
   "source": [
    "ganancia_neta_zona_2 = calculate_ganancias(target_valid_2, predictions_2)\n",
    "print(f'Ganancia potenciales Zona 2: {ganancia_neta_zona_2} USD')\n"
   ]
  },
  {
   "cell_type": "markdown",
   "metadata": {},
   "source": [
    "Se concluye que la zona que tiene mayor rendimientos potenciales es la zona 0 con un total de 39960488 USD."
   ]
  },
  {
   "cell_type": "markdown",
   "metadata": {},
   "source": [
    "### Calculando riesgos y ganancias"
   ]
  },
  {
   "cell_type": "code",
   "execution_count": 32,
   "metadata": {},
   "outputs": [],
   "source": [
    "def calcular_ganancias_bootstrap(predictions, target_valid, precio_por_unidad=4500, presupuesto=100_000_000, top_pozos=200):\n",
    "    resultados_simulados = []\n",
    "\n",
    "    data = pd.DataFrame({\n",
    "        'target_valid': target_valid,\n",
    "        'predictions': predictions\n",
    "    }).reset_index(drop=True)  \n",
    "    \n",
    "    for _ in range(1000):  # Número de simulaciones\n",
    "        muestra = data.sample(n=500, replace=True)\n",
    "        \n",
    "        indices_mejores_pozos = muestra.nlargest(top_pozos, 'predictions').index\n",
    "        \n",
    "        target_mejores_pozos = data.loc[indices_mejores_pozos, 'target_valid']\n",
    "        \n",
    "        ganancia_total = target_mejores_pozos.sum() * precio_por_unidad\n",
    "        \n",
    "        ganancia_neta = ganancia_total - presupuesto\n",
    "        resultados_simulados.append(ganancia_neta)\n",
    "    \n",
    "    resultados = np.array(resultados_simulados)\n",
    "    \n",
    "    ganancia_media = resultados.mean()\n",
    "    intervalo_confianza = np.percentile(resultados, [2.5, 97.5])\n",
    "    riesgo_perdidas = (resultados < 0).mean() * 100\n",
    "\n",
    "    return ganancia_media, intervalo_confianza, riesgo_perdidas"
   ]
  },
  {
   "cell_type": "markdown",
   "metadata": {},
   "source": [
    "Se crea funcion para calcular las ganancias de acuerdo a un numero de 1000 simulaciones, rescatando la ganancia media, intervalo de confianza del 95% y el riesgo de perdidas."
   ]
  },
  {
   "cell_type": "code",
   "execution_count": 33,
   "metadata": {},
   "outputs": [
    {
     "name": "stdout",
     "output_type": "stream",
     "text": [
      "Zona 0 : Ganancia media 3893914.4510480124\n",
      "Zona 0 : Intevalo de confianza [-1571965.08532716  8864596.32182089]\n",
      "Zona 0 : riesgo de perdidas 6.7\n"
     ]
    }
   ],
   "source": [
    "\n",
    "ganancia_media_zona_1,intervalo_de_confianza_1,riesgo_perdidas_1 = calcular_ganancias_bootstrap(predictions_0,target_valid_0)\n",
    "print(f'Zona 0 : Ganancia media {ganancia_media_zona_1}')\n",
    "print(f'Zona 0 : Intevalo de confianza {intervalo_de_confianza_1}')\n",
    "print(f'Zona 0 : riesgo de perdidas {riesgo_perdidas_1}')"
   ]
  },
  {
   "cell_type": "code",
   "execution_count": 34,
   "metadata": {},
   "outputs": [
    {
     "name": "stdout",
     "output_type": "stream",
     "text": [
      "Zona 1 : Ganancia media 4519323.284191359\n",
      "Zona 1 : Intevalo de confianza [ 431053.89492409 8703429.55437738]\n",
      "Zona 1 : riesgo de perdidas 1.6\n"
     ]
    }
   ],
   "source": [
    "ganancia_media_zona_2,intervalo_de_confianza_2,riesgo_perdidas_2 = calcular_ganancias_bootstrap(predictions_1,target_valid_1)\n",
    "print(f'Zona 1 : Ganancia media {ganancia_media_zona_2}')\n",
    "print(f'Zona 1 : Intevalo de confianza {intervalo_de_confianza_2}')\n",
    "print(f'Zona 1 : riesgo de perdidas {riesgo_perdidas_2}')"
   ]
  },
  {
   "cell_type": "code",
   "execution_count": 35,
   "metadata": {},
   "outputs": [
    {
     "name": "stdout",
     "output_type": "stream",
     "text": [
      "Zona 2 : Ganancia media 3823360.906005231\n",
      "Zona 2 : Intevalo de confianza [-1584640.55750498  9253089.8946584 ]\n",
      "Zona 2 : riesgo de perdidas 8.1\n"
     ]
    }
   ],
   "source": [
    "ganancia_media_zona_3,intervalo_de_confianza_3,riesgo_perdidas_3 = calcular_ganancias_bootstrap(predictions_2,target_valid_2)\n",
    "print(f'Zona 2 : Ganancia media {ganancia_media_zona_3}')\n",
    "print(f'Zona 2 : Intevalo de confianza {intervalo_de_confianza_3}')\n",
    "print(f'Zona 2 : riesgo de perdidas {riesgo_perdidas_3}')"
   ]
  },
  {
   "cell_type": "markdown",
   "metadata": {},
   "source": [
    "La zona con mayor numero de ganancias medias potenciales es la zona 1 con 4519323.28 USD con un riesgo de perdidas del 1.6 %, seguido de la zona 0 con ganancias de 3893914 USD y por ultimo la zona 2 con ganancias de  3823360 USD ambas con porcdentaje de riesgo altas que ronda entre los 6.7 y los 8.1.\n"
   ]
  },
  {
   "cell_type": "markdown",
   "metadata": {},
   "source": [
    "### Conclusiones Generales"
   ]
  },
  {
   "cell_type": "markdown",
   "metadata": {},
   "source": [
    "Después de un análisis exhaustivo de tres regiones utilizando modelos de regresión lineal para predecir el volumen de reservas de petróleo, hemos llegado a varias conclusiones clave que guiarán la decisión de inversión en el desarrollo de pozos petrolíferos.\n",
    "\n",
    "La Región 0, con un RMSE de 37.57 y un volumen medio de reservas predicho de 92.59, mostró ser la región con la menor precisión en las predicciones. Sin embargo, las ganancias potenciales determinando los 200 mejores pozos calculadas para esta región son significativas, con una ganancia media de aproximadamente  3,893,914  millones de dólares, y un intervalo de confianza que sugiere que las ganancias reales estarían entre -1,571,965.08  y 8,864,596.32 millones de dólares en el 95% de los casos simulados. Se detectó riesgo de pérdidas en las simulaciones de bootstrapping del 6.7%.\n",
    "\n",
    "La Región 1 presentó el RMSE más bajo, indicando una alta precisión en las predicciones de volumen de reservas, con un valor medio de 68.73. A pesar de tener el volumen medio más bajo entre las tres regiones, la ganancia media esperada es de aproximadamente 4,519,323 millones de dólares, con un intervalo de confianza entre 431,053 USD y 8,703,429 millones de dólares , con el mayor riesgo detectado entre las otras regiones , con un 1.6%.\n",
    "\n",
    "La Región 2 tuvo un RMSE de 40.03 y el volumen medio más alto de 94.96. La ganancia media esperada para esta región es de aproximadamente 3,823,360 millones de dólares, con un intervalo de confianza que va de -1584640.55 USD a 9253089.89 millones de dólares, con un riesgo del 1.6 % en las simulaciones.\n",
    "\n",
    "Ninguna de las regiones se considera directamente \"no rentable\" a pesar de que el volumen de equilibrio comparado con el volumen de reservas predicho sugiere lo contrario; esto se debe a que las ganancias potenciales y el riesgo de pérdidas calculados son favorables en todas las regiones.\n",
    "\n",
    "Dada la alta precisión de las predicciones y la rentabilidad esperada, se recomienda priorizar la inversión en la Región 1 para el desarrollo de pozos petrolíferos. \n"
   ]
  }
 ],
 "metadata": {
  "kernelspec": {
   "display_name": "Python 3 (ipykernel)",
   "language": "python",
   "name": "python3"
  },
  "language_info": {
   "codemirror_mode": {
    "name": "ipython",
    "version": 3
   },
   "file_extension": ".py",
   "mimetype": "text/x-python",
   "name": "python",
   "nbconvert_exporter": "python",
   "pygments_lexer": "ipython3",
   "version": "3.9.5"
  },
  "toc": {
   "base_numbering": 1,
   "nav_menu": {},
   "number_sections": true,
   "sideBar": true,
   "skip_h1_title": true,
   "title_cell": "Table of Contents",
   "title_sidebar": "Contents",
   "toc_cell": false,
   "toc_position": {},
   "toc_section_display": true,
   "toc_window_display": false
  }
 },
 "nbformat": 4,
 "nbformat_minor": 2
}
